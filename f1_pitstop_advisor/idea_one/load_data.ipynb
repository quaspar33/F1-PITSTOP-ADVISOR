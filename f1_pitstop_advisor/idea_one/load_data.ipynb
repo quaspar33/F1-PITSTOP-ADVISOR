{
 "cells": [
  {
   "cell_type": "code",
   "execution_count": null,
   "id": "100e1739",
   "metadata": {},
   "outputs": [],
   "source": [
    "import gather_data"
   ]
  },
  {
   "cell_type": "code",
   "execution_count": null,
   "id": "70aa2e20",
   "metadata": {},
   "outputs": [],
   "source": [
    "sessions = gather_data._get_sessions(2022)"
   ]
  },
  {
   "cell_type": "code",
   "execution_count": null,
   "id": "dd7a57fd",
   "metadata": {},
   "outputs": [],
   "source": [
    "# Load data to cache\n",
    "for i, session in zip(range(len(sessions)), sessions):\n",
    "    try:\n",
    "        session.load()\n",
    "        print(f\"Loaded session {i + 1} of {len(sessions)}\")\n",
    "    except RuntimeError as e:\n",
    "        print(e)\n",
    "        print(f\"Failed to load session {i + 1} of {len(sessions)}\")"
   ]
  },
  {
   "cell_type": "code",
   "execution_count": null,
   "id": "848dcbcd",
   "metadata": {},
   "outputs": [],
   "source": [
    "# Save sessions to pickle for quick reuse\n",
    "import pickle\n",
    "\n",
    "with open(\"ig_sessions.pickle\", \"wb\") as file:\n",
    "    pickle.dump(sessions, file)"
   ]
  }
 ],
 "metadata": {
  "kernelspec": {
   "display_name": ".venv",
   "language": "python",
   "name": "python3"
  },
  "language_info": {
   "codemirror_mode": {
    "name": "ipython",
    "version": 3
   },
   "file_extension": ".py",
   "mimetype": "text/x-python",
   "name": "python",
   "nbconvert_exporter": "python",
   "pygments_lexer": "ipython3",
   "version": "3.12.3"
  }
 },
 "nbformat": 4,
 "nbformat_minor": 5
}
