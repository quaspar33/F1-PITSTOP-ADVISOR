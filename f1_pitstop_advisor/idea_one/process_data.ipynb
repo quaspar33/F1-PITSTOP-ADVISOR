{
 "cells": [
  {
   "cell_type": "code",
   "execution_count": null,
   "id": "5e708344",
   "metadata": {},
   "outputs": [],
   "source": [
    "import pickle\n",
    "import fastf1 as ff1\n",
    "import pandas as pd\n",
    "import numpy as np\n",
    "\n",
    "from fastf1.core import Session\n",
    "from typing import List, Iterable\n",
    "\n",
    "import f1_pitstop_advisor.idea_one.data_processing_utils as utils\n",
    "\n",
    "from sklearn.pipeline import make_pipeline"
   ]
  },
  {
   "cell_type": "code",
   "execution_count": null,
   "id": "19e4317c",
   "metadata": {},
   "outputs": [],
   "source": [
    "with open(\"ig_sessions.pickle\", \"rb\") as file:\n",
    "    sessions = pickle.load(file)"
   ]
  },
  {
   "cell_type": "code",
   "execution_count": null,
   "id": "8a0e5af5",
   "metadata": {},
   "outputs": [],
   "source": [
    "# Organize sessions by circuit\n",
    "data_by_circuit = {}\n",
    "for session in sessions:\n",
    "    circuit_key =  session.session_info[\"Meeting\"][\"Circuit\"][\"Key\"]\n",
    "    if circuit_key not in data_by_circuit.keys():\n",
    "        data_by_circuit[circuit_key] = []\n",
    "    data_by_circuit[circuit_key].append(session)"
   ]
  },
  {
   "cell_type": "code",
   "execution_count": null,
   "id": "010c2a74",
   "metadata": {},
   "outputs": [],
   "source": [
    "data = utils.get_lap_data_with_weather(session)"
   ]
  }
 ],
 "metadata": {
  "kernelspec": {
   "display_name": ".venv",
   "language": "python",
   "name": "python3"
  },
  "language_info": {
   "codemirror_mode": {
    "name": "ipython",
    "version": 3
   },
   "file_extension": ".py",
   "mimetype": "text/x-python",
   "name": "python",
   "nbconvert_exporter": "python",
   "pygments_lexer": "ipython3",
   "version": "3.12.3"
  }
 },
 "nbformat": 4,
 "nbformat_minor": 5
}
